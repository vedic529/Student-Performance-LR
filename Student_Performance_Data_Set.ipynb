{
  "nbformat": 4,
  "nbformat_minor": 0,
  "metadata": {
    "colab": {
      "name": "Student Performance Data Set",
      "provenance": []
    },
    "kernelspec": {
      "name": "python3",
      "display_name": "Python 3"
    },
    "language_info": {
      "name": "python"
    }
  },
  "cells": [
    {
      "cell_type": "markdown",
      "metadata": {
        "id": "XlZe71bNMXZF"
      },
      "source": [
        "#Student achievement in secondary education of two Portuguese schools.\n",
        "I found this data on Kaggle which is shared by the University of California, Irvine. This data approach student achievement in secondary education of two Portuguese schools. The data attributes include student grades, demographic, social and school related features) and it was collected by using school reports and questionnaires. Important note: the target attribute G3 has a strong correlation with attributes G2 and G1. This occurs because G3 is the final year grade (issued at the 3rd period), while G1 and G2 correspond to the 1st and 2nd period grades. It is more difficult to predict G3 without G2 and G1, but such prediction is much more useful.\n",
        "\n",
        "The link for the data: https://archive.ics.uci.edu/ml/datasets/Student+Performance.\n",
        "\n",
        "The research paper on which this idea is based on can be found here: http://www3.dsi.uminho.pt/pcortez/student.pdf.\n",
        "\n",
        "\n"
      ]
    },
    {
      "cell_type": "code",
      "metadata": {
        "id": "bzem3EmL1WgB"
      },
      "source": [
        "#Importing the necessary libraries to get started\n",
        "\n",
        "import pandas as pd\n",
        "import matplotlib.pyplot as plt\n",
        "import seaborn as sns\n",
        "import numpy as np"
      ],
      "execution_count": 41,
      "outputs": []
    },
    {
      "cell_type": "markdown",
      "metadata": {
        "id": "-cuHcQVtOON4"
      },
      "source": [
        "After this is done we will proceed to importing the dataset. The dataset has been downloaded from the link mentioned above and have uploaded in the Google Colab environment."
      ]
    },
    {
      "cell_type": "code",
      "metadata": {
        "id": "LyazktwYOrcj"
      },
      "source": [
        "#Importing the dataset into a temp variable for further analysis\n",
        "temp = pd.read_csv(\"/content/student-por.csv\")"
      ],
      "execution_count": 6,
      "outputs": []
    },
    {
      "cell_type": "code",
      "metadata": {
        "colab": {
          "base_uri": "https://localhost:8080/",
          "height": 224
        },
        "id": "cO6cvOKvO7Lx",
        "outputId": "47821a78-8085-4025-a0fd-b11271f9ed10"
      },
      "source": [
        "temp.head()"
      ],
      "execution_count": 7,
      "outputs": [
        {
          "output_type": "execute_result",
          "data": {
            "text/html": [
              "<div>\n",
              "<style scoped>\n",
              "    .dataframe tbody tr th:only-of-type {\n",
              "        vertical-align: middle;\n",
              "    }\n",
              "\n",
              "    .dataframe tbody tr th {\n",
              "        vertical-align: top;\n",
              "    }\n",
              "\n",
              "    .dataframe thead th {\n",
              "        text-align: right;\n",
              "    }\n",
              "</style>\n",
              "<table border=\"1\" class=\"dataframe\">\n",
              "  <thead>\n",
              "    <tr style=\"text-align: right;\">\n",
              "      <th></th>\n",
              "      <th>school</th>\n",
              "      <th>sex</th>\n",
              "      <th>age</th>\n",
              "      <th>address</th>\n",
              "      <th>famsize</th>\n",
              "      <th>Pstatus</th>\n",
              "      <th>Medu</th>\n",
              "      <th>Fedu</th>\n",
              "      <th>Mjob</th>\n",
              "      <th>Fjob</th>\n",
              "      <th>reason</th>\n",
              "      <th>guardian</th>\n",
              "      <th>traveltime</th>\n",
              "      <th>studytime</th>\n",
              "      <th>failures</th>\n",
              "      <th>schoolsup</th>\n",
              "      <th>famsup</th>\n",
              "      <th>paid</th>\n",
              "      <th>activities</th>\n",
              "      <th>nursery</th>\n",
              "      <th>higher</th>\n",
              "      <th>internet</th>\n",
              "      <th>romantic</th>\n",
              "      <th>famrel</th>\n",
              "      <th>freetime</th>\n",
              "      <th>goout</th>\n",
              "      <th>Dalc</th>\n",
              "      <th>Walc</th>\n",
              "      <th>health</th>\n",
              "      <th>absences</th>\n",
              "      <th>G1</th>\n",
              "      <th>G2</th>\n",
              "      <th>G3</th>\n",
              "    </tr>\n",
              "  </thead>\n",
              "  <tbody>\n",
              "    <tr>\n",
              "      <th>0</th>\n",
              "      <td>GP</td>\n",
              "      <td>F</td>\n",
              "      <td>18</td>\n",
              "      <td>U</td>\n",
              "      <td>GT3</td>\n",
              "      <td>A</td>\n",
              "      <td>4</td>\n",
              "      <td>4</td>\n",
              "      <td>at_home</td>\n",
              "      <td>teacher</td>\n",
              "      <td>course</td>\n",
              "      <td>mother</td>\n",
              "      <td>2</td>\n",
              "      <td>2</td>\n",
              "      <td>0</td>\n",
              "      <td>yes</td>\n",
              "      <td>no</td>\n",
              "      <td>no</td>\n",
              "      <td>no</td>\n",
              "      <td>yes</td>\n",
              "      <td>yes</td>\n",
              "      <td>no</td>\n",
              "      <td>no</td>\n",
              "      <td>4</td>\n",
              "      <td>3</td>\n",
              "      <td>4</td>\n",
              "      <td>1</td>\n",
              "      <td>1</td>\n",
              "      <td>3</td>\n",
              "      <td>4</td>\n",
              "      <td>0</td>\n",
              "      <td>11</td>\n",
              "      <td>11</td>\n",
              "    </tr>\n",
              "    <tr>\n",
              "      <th>1</th>\n",
              "      <td>GP</td>\n",
              "      <td>F</td>\n",
              "      <td>17</td>\n",
              "      <td>U</td>\n",
              "      <td>GT3</td>\n",
              "      <td>T</td>\n",
              "      <td>1</td>\n",
              "      <td>1</td>\n",
              "      <td>at_home</td>\n",
              "      <td>other</td>\n",
              "      <td>course</td>\n",
              "      <td>father</td>\n",
              "      <td>1</td>\n",
              "      <td>2</td>\n",
              "      <td>0</td>\n",
              "      <td>no</td>\n",
              "      <td>yes</td>\n",
              "      <td>no</td>\n",
              "      <td>no</td>\n",
              "      <td>no</td>\n",
              "      <td>yes</td>\n",
              "      <td>yes</td>\n",
              "      <td>no</td>\n",
              "      <td>5</td>\n",
              "      <td>3</td>\n",
              "      <td>3</td>\n",
              "      <td>1</td>\n",
              "      <td>1</td>\n",
              "      <td>3</td>\n",
              "      <td>2</td>\n",
              "      <td>9</td>\n",
              "      <td>11</td>\n",
              "      <td>11</td>\n",
              "    </tr>\n",
              "    <tr>\n",
              "      <th>2</th>\n",
              "      <td>GP</td>\n",
              "      <td>F</td>\n",
              "      <td>15</td>\n",
              "      <td>U</td>\n",
              "      <td>LE3</td>\n",
              "      <td>T</td>\n",
              "      <td>1</td>\n",
              "      <td>1</td>\n",
              "      <td>at_home</td>\n",
              "      <td>other</td>\n",
              "      <td>other</td>\n",
              "      <td>mother</td>\n",
              "      <td>1</td>\n",
              "      <td>2</td>\n",
              "      <td>0</td>\n",
              "      <td>yes</td>\n",
              "      <td>no</td>\n",
              "      <td>no</td>\n",
              "      <td>no</td>\n",
              "      <td>yes</td>\n",
              "      <td>yes</td>\n",
              "      <td>yes</td>\n",
              "      <td>no</td>\n",
              "      <td>4</td>\n",
              "      <td>3</td>\n",
              "      <td>2</td>\n",
              "      <td>2</td>\n",
              "      <td>3</td>\n",
              "      <td>3</td>\n",
              "      <td>6</td>\n",
              "      <td>12</td>\n",
              "      <td>13</td>\n",
              "      <td>12</td>\n",
              "    </tr>\n",
              "    <tr>\n",
              "      <th>3</th>\n",
              "      <td>GP</td>\n",
              "      <td>F</td>\n",
              "      <td>15</td>\n",
              "      <td>U</td>\n",
              "      <td>GT3</td>\n",
              "      <td>T</td>\n",
              "      <td>4</td>\n",
              "      <td>2</td>\n",
              "      <td>health</td>\n",
              "      <td>services</td>\n",
              "      <td>home</td>\n",
              "      <td>mother</td>\n",
              "      <td>1</td>\n",
              "      <td>3</td>\n",
              "      <td>0</td>\n",
              "      <td>no</td>\n",
              "      <td>yes</td>\n",
              "      <td>no</td>\n",
              "      <td>yes</td>\n",
              "      <td>yes</td>\n",
              "      <td>yes</td>\n",
              "      <td>yes</td>\n",
              "      <td>yes</td>\n",
              "      <td>3</td>\n",
              "      <td>2</td>\n",
              "      <td>2</td>\n",
              "      <td>1</td>\n",
              "      <td>1</td>\n",
              "      <td>5</td>\n",
              "      <td>0</td>\n",
              "      <td>14</td>\n",
              "      <td>14</td>\n",
              "      <td>14</td>\n",
              "    </tr>\n",
              "    <tr>\n",
              "      <th>4</th>\n",
              "      <td>GP</td>\n",
              "      <td>F</td>\n",
              "      <td>16</td>\n",
              "      <td>U</td>\n",
              "      <td>GT3</td>\n",
              "      <td>T</td>\n",
              "      <td>3</td>\n",
              "      <td>3</td>\n",
              "      <td>other</td>\n",
              "      <td>other</td>\n",
              "      <td>home</td>\n",
              "      <td>father</td>\n",
              "      <td>1</td>\n",
              "      <td>2</td>\n",
              "      <td>0</td>\n",
              "      <td>no</td>\n",
              "      <td>yes</td>\n",
              "      <td>no</td>\n",
              "      <td>no</td>\n",
              "      <td>yes</td>\n",
              "      <td>yes</td>\n",
              "      <td>no</td>\n",
              "      <td>no</td>\n",
              "      <td>4</td>\n",
              "      <td>3</td>\n",
              "      <td>2</td>\n",
              "      <td>1</td>\n",
              "      <td>2</td>\n",
              "      <td>5</td>\n",
              "      <td>0</td>\n",
              "      <td>11</td>\n",
              "      <td>13</td>\n",
              "      <td>13</td>\n",
              "    </tr>\n",
              "  </tbody>\n",
              "</table>\n",
              "</div>"
            ],
            "text/plain": [
              "  school sex  age address famsize Pstatus  ...  Walc  health absences  G1  G2  G3\n",
              "0     GP   F   18       U     GT3       A  ...     1       3        4   0  11  11\n",
              "1     GP   F   17       U     GT3       T  ...     1       3        2   9  11  11\n",
              "2     GP   F   15       U     LE3       T  ...     3       3        6  12  13  12\n",
              "3     GP   F   15       U     GT3       T  ...     1       5        0  14  14  14\n",
              "4     GP   F   16       U     GT3       T  ...     2       5        0  11  13  13\n",
              "\n",
              "[5 rows x 33 columns]"
            ]
          },
          "metadata": {},
          "execution_count": 7
        }
      ]
    },
    {
      "cell_type": "markdown",
      "metadata": {
        "id": "GgxOi4v_R5bu"
      },
      "source": [
        "#To understand what each column refers to in the dataset, please refer to the reading below: -\n",
        "\n",
        "##Attribute Information:\n",
        "Attributes for both student-mat.csv (Math course) and student-por.csv (Portuguese language course) datasets:\n",
        "\n",
        "1. school - student's school (binary: 'GP' - Gabriel Pereira or 'MS' - Mousinho da Silveira).<br>\n",
        "2. sex - student's sex (binary: 'F' - female or 'M' - male).<br>\n",
        "3. age - student's age (numeric: from 15 to 22).<br>\n",
        "4. address - student's home address type (binary: 'U' - urban or 'R' - rural)\n",
        "5. famsize - family size (binary: 'LE3' - less or equal to 3 or 'GT3' - greater than 3)\n",
        "6. Pstatus - parent's cohabitation status (binary: 'T' - living together or 'A' - apart)\n",
        "7. Medu - mother's education (numeric: 0 - none, 1 - primary education (4th grade), 2 â€“ 5th to 9th grade, 3 â€“ secondary education or 4 â€“ higher education)\n",
        "8. Fedu - father's education (numeric: 0 - none, 1 - primary education (4th grade), 2 â€“ 5th to 9th grade, 3 â€“ secondary education or 4 â€“ higher education)\n",
        "9. Mjob - mother's job (nominal: 'teacher', 'health' care related, civil 'services' (e.g. administrative or police), 'at_home' or 'other')\n",
        "10. Fjob - father's job (nominal: 'teacher', 'health' care related, civil 'services' (e.g. administrative or police), 'at_home' or 'other')\n",
        "11. reason - reason to choose this school (nominal: close to 'home', school 'reputation', 'course' preference or 'other')\n",
        "12. guardian - student's guardian (nominal: 'mother', 'father' or 'other')\n",
        "13. traveltime - home to school travel time (numeric: 1 - <15 min., 2 - 15 to 30 min., 3 - 30 min. to 1 hour, or 4 - >1 hour)\n",
        "14. studytime - weekly study time (numeric: 1 - <2 hours, 2 - 2 to 5 hours, 3 - 5 to 10 hours, or 4 - >10 hours)\n",
        "15. failures - number of past class failures (numeric: n if 1<=n<3, else 4)\n",
        "16. schoolsup - extra educational support (binary: yes or no)\n",
        "17. famsup - family educational support (binary: yes or no)\n",
        "18. paid - extra paid classes within the course subject (Math or Portuguese) (binary: yes or no)\n",
        "19. activities - extra-curricular activities (binary: yes or no)\n",
        "20. nursery - attended nursery school (binary: yes or no)\n",
        "21. higher - wants to take higher education (binary: yes or no)\n",
        "22. internet - Internet access at home (binary: yes or no)\n",
        "23. romantic - with a romantic relationship (binary: yes or no)\n",
        "24. famrel - quality of family relationships (numeric: from 1 - very bad to 5 - excellent)\n",
        "25. freetime - free time after school (numeric: from 1 - very low to 5 - very high)\n",
        "26. goout - going out with friends (numeric: from 1 - very low to 5 - very high)\n",
        "27. Dalc - workday alcohol consumption (numeric: from 1 - very low to 5 - very high)\n",
        "28. Walc - weekend alcohol consumption (numeric: from 1 - very low to 5 - very high)\n",
        "29. health - current health status (numeric: from 1 - very bad to 5 - very good)\n",
        "30. absences - number of school absences (numeric: from 0 to 93)\n",
        "\n",
        "These grades are related with the course subject, Math or Portuguese:\n",
        "31. G1 - first period grade (numeric: from 0 to 20)\n",
        "31. G2 - second period grade (numeric: from 0 to 20)\n",
        "32. G3 - final grade (numeric: from 0 to 20, output target)"
      ]
    },
    {
      "cell_type": "code",
      "metadata": {
        "colab": {
          "base_uri": "https://localhost:8080/"
        },
        "id": "sibwdNvSPHe4",
        "outputId": "ad243a18-b9db-41e1-b1be-d3447d7b0626"
      },
      "source": [
        "#To check the shape of our dataset\n",
        "temp.shape"
      ],
      "execution_count": 8,
      "outputs": [
        {
          "output_type": "execute_result",
          "data": {
            "text/plain": [
              "(649, 33)"
            ]
          },
          "metadata": {},
          "execution_count": 8
        }
      ]
    },
    {
      "cell_type": "code",
      "metadata": {
        "colab": {
          "base_uri": "https://localhost:8080/"
        },
        "id": "C_6Q4_TmQnQy",
        "outputId": "9dbcaa17-b027-4158-af6b-01f918ed25dc"
      },
      "source": [
        "#Check the NULL values\n",
        "temp.isnull().sum()"
      ],
      "execution_count": 9,
      "outputs": [
        {
          "output_type": "execute_result",
          "data": {
            "text/plain": [
              "school        0\n",
              "sex           0\n",
              "age           0\n",
              "address       0\n",
              "famsize       0\n",
              "Pstatus       0\n",
              "Medu          0\n",
              "Fedu          0\n",
              "Mjob          0\n",
              "Fjob          0\n",
              "reason        0\n",
              "guardian      0\n",
              "traveltime    0\n",
              "studytime     0\n",
              "failures      0\n",
              "schoolsup     0\n",
              "famsup        0\n",
              "paid          0\n",
              "activities    0\n",
              "nursery       0\n",
              "higher        0\n",
              "internet      0\n",
              "romantic      0\n",
              "famrel        0\n",
              "freetime      0\n",
              "goout         0\n",
              "Dalc          0\n",
              "Walc          0\n",
              "health        0\n",
              "absences      0\n",
              "G1            0\n",
              "G2            0\n",
              "G3            0\n",
              "dtype: int64"
            ]
          },
          "metadata": {},
          "execution_count": 9
        }
      ]
    },
    {
      "cell_type": "markdown",
      "metadata": {
        "id": "VviZsvgAPefA"
      },
      "source": [
        "After executing the cells above we came to know that our dataset got 649 rows, and 33 columns, and have no NULL values. As all of these columns won't be playing a significant amount of role in our analysis, we are going to drop some of them."
      ]
    },
    {
      "cell_type": "code",
      "metadata": {
        "id": "pdsB4C4wRDlq"
      },
      "source": [
        "#Transfering useful columns into a new variable named \"data\"\n",
        "data = temp[['sex','age','traveltime','studytime','failures','schoolsup','famsup','activities','internet','romantic','freetime','goout','health','absences','G1','G2','G3']]"
      ],
      "execution_count": 10,
      "outputs": []
    },
    {
      "cell_type": "markdown",
      "metadata": {
        "id": "O4_IlOGv-c42"
      },
      "source": [
        "For better understanding of the dataset, I would like to rename some of the columns: -\n",
        "1. Activities --> ECC\n",
        "2. G1 --> Year 1\n",
        "3. G2 --> Year 2\n",
        "4. G3 --> Year 3"
      ]
    },
    {
      "cell_type": "code",
      "metadata": {
        "colab": {
          "base_uri": "https://localhost:8080/"
        },
        "id": "DfxcinDo-y0u",
        "outputId": "de1862fe-5596-4271-ef7f-0a1f20268b3e"
      },
      "source": [
        "# renaming the columns \n",
        "data.rename(columns = {'activities':'ECC'}, inplace = True)\n",
        "data.rename(columns = {'G1':'Year_1'}, inplace = True)\n",
        "data.rename(columns = {'G2':'Year_2'}, inplace = True)\n",
        "data.rename(columns = {'G3':'Year_3'}, inplace = True)"
      ],
      "execution_count": 52,
      "outputs": [
        {
          "output_type": "stream",
          "text": [
            "/usr/local/lib/python3.7/dist-packages/pandas/core/frame.py:4308: SettingWithCopyWarning: \n",
            "A value is trying to be set on a copy of a slice from a DataFrame\n",
            "\n",
            "See the caveats in the documentation: https://pandas.pydata.org/pandas-docs/stable/user_guide/indexing.html#returning-a-view-versus-a-copy\n",
            "  errors=errors,\n"
          ],
          "name": "stderr"
        }
      ]
    },
    {
      "cell_type": "code",
      "metadata": {
        "colab": {
          "base_uri": "https://localhost:8080/",
          "height": 224
        },
        "id": "HyopK3i4_RRq",
        "outputId": "51b2da00-a323-4953-c3e5-1ce1e9fd8978"
      },
      "source": [
        "data.head()"
      ],
      "execution_count": 55,
      "outputs": [
        {
          "output_type": "execute_result",
          "data": {
            "text/html": [
              "<div>\n",
              "<style scoped>\n",
              "    .dataframe tbody tr th:only-of-type {\n",
              "        vertical-align: middle;\n",
              "    }\n",
              "\n",
              "    .dataframe tbody tr th {\n",
              "        vertical-align: top;\n",
              "    }\n",
              "\n",
              "    .dataframe thead th {\n",
              "        text-align: right;\n",
              "    }\n",
              "</style>\n",
              "<table border=\"1\" class=\"dataframe\">\n",
              "  <thead>\n",
              "    <tr style=\"text-align: right;\">\n",
              "      <th></th>\n",
              "      <th>sex</th>\n",
              "      <th>age</th>\n",
              "      <th>traveltime</th>\n",
              "      <th>studytime</th>\n",
              "      <th>failures</th>\n",
              "      <th>schoolsup</th>\n",
              "      <th>famsup</th>\n",
              "      <th>ECC</th>\n",
              "      <th>internet</th>\n",
              "      <th>romantic</th>\n",
              "      <th>freetime</th>\n",
              "      <th>goout</th>\n",
              "      <th>health</th>\n",
              "      <th>absences</th>\n",
              "      <th>Year_1</th>\n",
              "      <th>Year_2</th>\n",
              "      <th>Year_3</th>\n",
              "    </tr>\n",
              "  </thead>\n",
              "  <tbody>\n",
              "    <tr>\n",
              "      <th>0</th>\n",
              "      <td>1</td>\n",
              "      <td>18</td>\n",
              "      <td>2</td>\n",
              "      <td>2</td>\n",
              "      <td>0</td>\n",
              "      <td>1</td>\n",
              "      <td>0</td>\n",
              "      <td>0</td>\n",
              "      <td>0</td>\n",
              "      <td>0</td>\n",
              "      <td>3</td>\n",
              "      <td>4</td>\n",
              "      <td>3</td>\n",
              "      <td>4</td>\n",
              "      <td>0</td>\n",
              "      <td>11</td>\n",
              "      <td>11</td>\n",
              "    </tr>\n",
              "    <tr>\n",
              "      <th>1</th>\n",
              "      <td>1</td>\n",
              "      <td>17</td>\n",
              "      <td>1</td>\n",
              "      <td>2</td>\n",
              "      <td>0</td>\n",
              "      <td>0</td>\n",
              "      <td>1</td>\n",
              "      <td>0</td>\n",
              "      <td>1</td>\n",
              "      <td>0</td>\n",
              "      <td>3</td>\n",
              "      <td>3</td>\n",
              "      <td>3</td>\n",
              "      <td>2</td>\n",
              "      <td>9</td>\n",
              "      <td>11</td>\n",
              "      <td>11</td>\n",
              "    </tr>\n",
              "    <tr>\n",
              "      <th>2</th>\n",
              "      <td>1</td>\n",
              "      <td>15</td>\n",
              "      <td>1</td>\n",
              "      <td>2</td>\n",
              "      <td>0</td>\n",
              "      <td>1</td>\n",
              "      <td>0</td>\n",
              "      <td>0</td>\n",
              "      <td>1</td>\n",
              "      <td>0</td>\n",
              "      <td>3</td>\n",
              "      <td>2</td>\n",
              "      <td>3</td>\n",
              "      <td>6</td>\n",
              "      <td>12</td>\n",
              "      <td>13</td>\n",
              "      <td>12</td>\n",
              "    </tr>\n",
              "    <tr>\n",
              "      <th>3</th>\n",
              "      <td>1</td>\n",
              "      <td>15</td>\n",
              "      <td>1</td>\n",
              "      <td>3</td>\n",
              "      <td>0</td>\n",
              "      <td>0</td>\n",
              "      <td>1</td>\n",
              "      <td>1</td>\n",
              "      <td>1</td>\n",
              "      <td>1</td>\n",
              "      <td>2</td>\n",
              "      <td>2</td>\n",
              "      <td>5</td>\n",
              "      <td>0</td>\n",
              "      <td>14</td>\n",
              "      <td>14</td>\n",
              "      <td>14</td>\n",
              "    </tr>\n",
              "    <tr>\n",
              "      <th>4</th>\n",
              "      <td>1</td>\n",
              "      <td>16</td>\n",
              "      <td>1</td>\n",
              "      <td>2</td>\n",
              "      <td>0</td>\n",
              "      <td>0</td>\n",
              "      <td>1</td>\n",
              "      <td>0</td>\n",
              "      <td>0</td>\n",
              "      <td>0</td>\n",
              "      <td>3</td>\n",
              "      <td>2</td>\n",
              "      <td>5</td>\n",
              "      <td>0</td>\n",
              "      <td>11</td>\n",
              "      <td>13</td>\n",
              "      <td>13</td>\n",
              "    </tr>\n",
              "  </tbody>\n",
              "</table>\n",
              "</div>"
            ],
            "text/plain": [
              "   sex  age  traveltime  studytime  ...  absences  Year_1  Year_2  Year_3\n",
              "0    1   18           2          2  ...         4       0      11      11\n",
              "1    1   17           1          2  ...         2       9      11      11\n",
              "2    1   15           1          2  ...         6      12      13      12\n",
              "3    1   15           1          3  ...         0      14      14      14\n",
              "4    1   16           1          2  ...         0      11      13      13\n",
              "\n",
              "[5 rows x 17 columns]"
            ]
          },
          "metadata": {},
          "execution_count": 55
        }
      ]
    },
    {
      "cell_type": "markdown",
      "metadata": {
        "id": "XIaSbzn6AGrO"
      },
      "source": [
        "Now, we will use all these columns as input parameter for our model and try to predict the Year 3 marks of a student, but before that, we will have to convert all the categorical quantities into some numerical quantities."
      ]
    },
    {
      "cell_type": "code",
      "metadata": {
        "colab": {
          "base_uri": "https://localhost:8080/",
          "height": 375
        },
        "id": "yj6K9QwYB3K2",
        "outputId": "c3cf46c1-d56a-4741-af9d-588103d7f4e6"
      },
      "source": [
        "#Converting the categorical values into numerical values\n",
        "data.sex.replace(('F', 'M'), (1, 2), inplace=True) #1 for female, 2 for male\n",
        "data.schoolsup.replace(('yes', 'no'), (1, 0), inplace=True) #1 for yes, 0 for no\n",
        "data.famsup.replace(('yes', 'no'), (1, 0), inplace=True) #1 for yes, 0 for no\n",
        "data.internet.replace(('yes', 'no'), (1, 0), inplace=True) #1 for yes, 0 for no\n",
        "data.romantic.replace(('yes', 'no'), (1, 0), inplace=True) #1 for yes, 0 for no\n",
        "data.ECC.replace(('yes','no'),(1,0),inplace=True)#1 for yes, 0 for no"
      ],
      "execution_count": 56,
      "outputs": [
        {
          "output_type": "error",
          "ename": "TypeError",
          "evalue": "ignored",
          "traceback": [
            "\u001b[0;31m---------------------------------------------------------------------------\u001b[0m",
            "\u001b[0;31mTypeError\u001b[0m                                 Traceback (most recent call last)",
            "\u001b[0;32m<ipython-input-56-fa12dd8279c2>\u001b[0m in \u001b[0;36m<module>\u001b[0;34m()\u001b[0m\n\u001b[1;32m      1\u001b[0m \u001b[0;31m#Converting the categorical values into numerical values\u001b[0m\u001b[0;34m\u001b[0m\u001b[0;34m\u001b[0m\u001b[0;34m\u001b[0m\u001b[0m\n\u001b[0;32m----> 2\u001b[0;31m \u001b[0mdata\u001b[0m\u001b[0;34m.\u001b[0m\u001b[0msex\u001b[0m\u001b[0;34m.\u001b[0m\u001b[0mreplace\u001b[0m\u001b[0;34m(\u001b[0m\u001b[0;34m(\u001b[0m\u001b[0;34m'F'\u001b[0m\u001b[0;34m,\u001b[0m \u001b[0;34m'M'\u001b[0m\u001b[0;34m)\u001b[0m\u001b[0;34m,\u001b[0m \u001b[0;34m(\u001b[0m\u001b[0;36m1\u001b[0m\u001b[0;34m,\u001b[0m \u001b[0;36m2\u001b[0m\u001b[0;34m)\u001b[0m\u001b[0;34m,\u001b[0m \u001b[0minplace\u001b[0m\u001b[0;34m=\u001b[0m\u001b[0;32mTrue\u001b[0m\u001b[0;34m)\u001b[0m \u001b[0;31m#1 for female, 2 for male\u001b[0m\u001b[0;34m\u001b[0m\u001b[0;34m\u001b[0m\u001b[0m\n\u001b[0m\u001b[1;32m      3\u001b[0m \u001b[0mdata\u001b[0m\u001b[0;34m.\u001b[0m\u001b[0mschoolsup\u001b[0m\u001b[0;34m.\u001b[0m\u001b[0mreplace\u001b[0m\u001b[0;34m(\u001b[0m\u001b[0;34m(\u001b[0m\u001b[0;34m'yes'\u001b[0m\u001b[0;34m,\u001b[0m \u001b[0;34m'no'\u001b[0m\u001b[0;34m)\u001b[0m\u001b[0;34m,\u001b[0m \u001b[0;34m(\u001b[0m\u001b[0;36m1\u001b[0m\u001b[0;34m,\u001b[0m \u001b[0;36m0\u001b[0m\u001b[0;34m)\u001b[0m\u001b[0;34m,\u001b[0m \u001b[0minplace\u001b[0m\u001b[0;34m=\u001b[0m\u001b[0;32mTrue\u001b[0m\u001b[0;34m)\u001b[0m \u001b[0;31m#1 for yes, 0 for no\u001b[0m\u001b[0;34m\u001b[0m\u001b[0;34m\u001b[0m\u001b[0m\n\u001b[1;32m      4\u001b[0m \u001b[0mdata\u001b[0m\u001b[0;34m.\u001b[0m\u001b[0mfamsup\u001b[0m\u001b[0;34m.\u001b[0m\u001b[0mreplace\u001b[0m\u001b[0;34m(\u001b[0m\u001b[0;34m(\u001b[0m\u001b[0;34m'yes'\u001b[0m\u001b[0;34m,\u001b[0m \u001b[0;34m'no'\u001b[0m\u001b[0;34m)\u001b[0m\u001b[0;34m,\u001b[0m \u001b[0;34m(\u001b[0m\u001b[0;36m1\u001b[0m\u001b[0;34m,\u001b[0m \u001b[0;36m0\u001b[0m\u001b[0;34m)\u001b[0m\u001b[0;34m,\u001b[0m \u001b[0minplace\u001b[0m\u001b[0;34m=\u001b[0m\u001b[0;32mTrue\u001b[0m\u001b[0;34m)\u001b[0m \u001b[0;31m#1 for yes, 0 for no\u001b[0m\u001b[0;34m\u001b[0m\u001b[0;34m\u001b[0m\u001b[0m\n\u001b[1;32m      5\u001b[0m \u001b[0mdata\u001b[0m\u001b[0;34m.\u001b[0m\u001b[0minternet\u001b[0m\u001b[0;34m.\u001b[0m\u001b[0mreplace\u001b[0m\u001b[0;34m(\u001b[0m\u001b[0;34m(\u001b[0m\u001b[0;34m'yes'\u001b[0m\u001b[0;34m,\u001b[0m \u001b[0;34m'no'\u001b[0m\u001b[0;34m)\u001b[0m\u001b[0;34m,\u001b[0m \u001b[0;34m(\u001b[0m\u001b[0;36m1\u001b[0m\u001b[0;34m,\u001b[0m \u001b[0;36m0\u001b[0m\u001b[0;34m)\u001b[0m\u001b[0;34m,\u001b[0m \u001b[0minplace\u001b[0m\u001b[0;34m=\u001b[0m\u001b[0;32mTrue\u001b[0m\u001b[0;34m)\u001b[0m \u001b[0;31m#1 for yes, 0 for no\u001b[0m\u001b[0;34m\u001b[0m\u001b[0;34m\u001b[0m\u001b[0m\n",
            "\u001b[0;32m/usr/local/lib/python3.7/dist-packages/pandas/core/series.py\u001b[0m in \u001b[0;36mreplace\u001b[0;34m(self, to_replace, value, inplace, limit, regex, method)\u001b[0m\n\u001b[1;32m   4580\u001b[0m             \u001b[0mlimit\u001b[0m\u001b[0;34m=\u001b[0m\u001b[0mlimit\u001b[0m\u001b[0;34m,\u001b[0m\u001b[0;34m\u001b[0m\u001b[0;34m\u001b[0m\u001b[0m\n\u001b[1;32m   4581\u001b[0m             \u001b[0mregex\u001b[0m\u001b[0;34m=\u001b[0m\u001b[0mregex\u001b[0m\u001b[0;34m,\u001b[0m\u001b[0;34m\u001b[0m\u001b[0;34m\u001b[0m\u001b[0m\n\u001b[0;32m-> 4582\u001b[0;31m             \u001b[0mmethod\u001b[0m\u001b[0;34m=\u001b[0m\u001b[0mmethod\u001b[0m\u001b[0;34m,\u001b[0m\u001b[0;34m\u001b[0m\u001b[0;34m\u001b[0m\u001b[0m\n\u001b[0m\u001b[1;32m   4583\u001b[0m         )\n\u001b[1;32m   4584\u001b[0m \u001b[0;34m\u001b[0m\u001b[0m\n",
            "\u001b[0;32m/usr/local/lib/python3.7/dist-packages/pandas/core/generic.py\u001b[0m in \u001b[0;36mreplace\u001b[0;34m(self, to_replace, value, inplace, limit, regex, method)\u001b[0m\n\u001b[1;32m   6551\u001b[0m                         \u001b[0mdest_list\u001b[0m\u001b[0;34m=\u001b[0m\u001b[0mvalue\u001b[0m\u001b[0;34m,\u001b[0m\u001b[0;34m\u001b[0m\u001b[0;34m\u001b[0m\u001b[0m\n\u001b[1;32m   6552\u001b[0m                         \u001b[0minplace\u001b[0m\u001b[0;34m=\u001b[0m\u001b[0minplace\u001b[0m\u001b[0;34m,\u001b[0m\u001b[0;34m\u001b[0m\u001b[0;34m\u001b[0m\u001b[0m\n\u001b[0;32m-> 6553\u001b[0;31m                         \u001b[0mregex\u001b[0m\u001b[0;34m=\u001b[0m\u001b[0mregex\u001b[0m\u001b[0;34m,\u001b[0m\u001b[0;34m\u001b[0m\u001b[0;34m\u001b[0m\u001b[0m\n\u001b[0m\u001b[1;32m   6554\u001b[0m                     )\n\u001b[1;32m   6555\u001b[0m \u001b[0;34m\u001b[0m\u001b[0m\n",
            "\u001b[0;32m/usr/local/lib/python3.7/dist-packages/pandas/core/internals/managers.py\u001b[0m in \u001b[0;36mreplace_list\u001b[0;34m(self, src_list, dest_list, inplace, regex)\u001b[0m\n\u001b[1;32m    649\u001b[0m         \u001b[0mmask\u001b[0m \u001b[0;34m=\u001b[0m \u001b[0;34m~\u001b[0m\u001b[0misna\u001b[0m\u001b[0;34m(\u001b[0m\u001b[0mvalues\u001b[0m\u001b[0;34m)\u001b[0m\u001b[0;34m\u001b[0m\u001b[0;34m\u001b[0m\u001b[0m\n\u001b[1;32m    650\u001b[0m \u001b[0;34m\u001b[0m\u001b[0m\n\u001b[0;32m--> 651\u001b[0;31m         \u001b[0mmasks\u001b[0m \u001b[0;34m=\u001b[0m \u001b[0;34m[\u001b[0m\u001b[0mcomp\u001b[0m\u001b[0;34m(\u001b[0m\u001b[0ms\u001b[0m\u001b[0;34m,\u001b[0m \u001b[0mmask\u001b[0m\u001b[0;34m,\u001b[0m \u001b[0mregex\u001b[0m\u001b[0;34m)\u001b[0m \u001b[0;32mfor\u001b[0m \u001b[0ms\u001b[0m \u001b[0;32min\u001b[0m \u001b[0msrc_list\u001b[0m\u001b[0;34m]\u001b[0m\u001b[0;34m\u001b[0m\u001b[0;34m\u001b[0m\u001b[0m\n\u001b[0m\u001b[1;32m    652\u001b[0m \u001b[0;34m\u001b[0m\u001b[0m\n\u001b[1;32m    653\u001b[0m         \u001b[0mresult_blocks\u001b[0m \u001b[0;34m=\u001b[0m \u001b[0;34m[\u001b[0m\u001b[0;34m]\u001b[0m\u001b[0;34m\u001b[0m\u001b[0;34m\u001b[0m\u001b[0m\n",
            "\u001b[0;32m/usr/local/lib/python3.7/dist-packages/pandas/core/internals/managers.py\u001b[0m in \u001b[0;36m<listcomp>\u001b[0;34m(.0)\u001b[0m\n\u001b[1;32m    649\u001b[0m         \u001b[0mmask\u001b[0m \u001b[0;34m=\u001b[0m \u001b[0;34m~\u001b[0m\u001b[0misna\u001b[0m\u001b[0;34m(\u001b[0m\u001b[0mvalues\u001b[0m\u001b[0;34m)\u001b[0m\u001b[0;34m\u001b[0m\u001b[0;34m\u001b[0m\u001b[0m\n\u001b[1;32m    650\u001b[0m \u001b[0;34m\u001b[0m\u001b[0m\n\u001b[0;32m--> 651\u001b[0;31m         \u001b[0mmasks\u001b[0m \u001b[0;34m=\u001b[0m \u001b[0;34m[\u001b[0m\u001b[0mcomp\u001b[0m\u001b[0;34m(\u001b[0m\u001b[0ms\u001b[0m\u001b[0;34m,\u001b[0m \u001b[0mmask\u001b[0m\u001b[0;34m,\u001b[0m \u001b[0mregex\u001b[0m\u001b[0;34m)\u001b[0m \u001b[0;32mfor\u001b[0m \u001b[0ms\u001b[0m \u001b[0;32min\u001b[0m \u001b[0msrc_list\u001b[0m\u001b[0;34m]\u001b[0m\u001b[0;34m\u001b[0m\u001b[0;34m\u001b[0m\u001b[0m\n\u001b[0m\u001b[1;32m    652\u001b[0m \u001b[0;34m\u001b[0m\u001b[0m\n\u001b[1;32m    653\u001b[0m         \u001b[0mresult_blocks\u001b[0m \u001b[0;34m=\u001b[0m \u001b[0;34m[\u001b[0m\u001b[0;34m]\u001b[0m\u001b[0;34m\u001b[0m\u001b[0;34m\u001b[0m\u001b[0m\n",
            "\u001b[0;32m/usr/local/lib/python3.7/dist-packages/pandas/core/internals/managers.py\u001b[0m in \u001b[0;36mcomp\u001b[0;34m(s, mask, regex)\u001b[0m\n\u001b[1;32m    643\u001b[0m \u001b[0;34m\u001b[0m\u001b[0m\n\u001b[1;32m    644\u001b[0m             \u001b[0ms\u001b[0m \u001b[0;34m=\u001b[0m \u001b[0mcom\u001b[0m\u001b[0;34m.\u001b[0m\u001b[0mmaybe_box_datetimelike\u001b[0m\u001b[0;34m(\u001b[0m\u001b[0ms\u001b[0m\u001b[0;34m)\u001b[0m\u001b[0;34m\u001b[0m\u001b[0;34m\u001b[0m\u001b[0m\n\u001b[0;32m--> 645\u001b[0;31m             \u001b[0;32mreturn\u001b[0m \u001b[0m_compare_or_regex_search\u001b[0m\u001b[0;34m(\u001b[0m\u001b[0mvalues\u001b[0m\u001b[0;34m,\u001b[0m \u001b[0ms\u001b[0m\u001b[0;34m,\u001b[0m \u001b[0mregex\u001b[0m\u001b[0;34m,\u001b[0m \u001b[0mmask\u001b[0m\u001b[0;34m)\u001b[0m\u001b[0;34m\u001b[0m\u001b[0;34m\u001b[0m\u001b[0m\n\u001b[0m\u001b[1;32m    646\u001b[0m \u001b[0;34m\u001b[0m\u001b[0m\n\u001b[1;32m    647\u001b[0m         \u001b[0;31m# Calculate the mask once, prior to the call of comp\u001b[0m\u001b[0;34m\u001b[0m\u001b[0;34m\u001b[0m\u001b[0;34m\u001b[0m\u001b[0m\n",
            "\u001b[0;32m/usr/local/lib/python3.7/dist-packages/pandas/core/internals/managers.py\u001b[0m in \u001b[0;36m_compare_or_regex_search\u001b[0;34m(a, b, regex, mask)\u001b[0m\n\u001b[1;32m   1999\u001b[0m     \u001b[0;32mif\u001b[0m \u001b[0mis_datetimelike_v_numeric\u001b[0m\u001b[0;34m(\u001b[0m\u001b[0ma\u001b[0m\u001b[0;34m,\u001b[0m \u001b[0mb\u001b[0m\u001b[0;34m)\u001b[0m \u001b[0;32mor\u001b[0m \u001b[0mis_numeric_v_string_like\u001b[0m\u001b[0;34m(\u001b[0m\u001b[0ma\u001b[0m\u001b[0;34m,\u001b[0m \u001b[0mb\u001b[0m\u001b[0;34m)\u001b[0m\u001b[0;34m:\u001b[0m\u001b[0;34m\u001b[0m\u001b[0;34m\u001b[0m\u001b[0m\n\u001b[1;32m   2000\u001b[0m         \u001b[0;31m# GH#29553 avoid deprecation warnings from numpy\u001b[0m\u001b[0;34m\u001b[0m\u001b[0;34m\u001b[0m\u001b[0;34m\u001b[0m\u001b[0m\n\u001b[0;32m-> 2001\u001b[0;31m         \u001b[0m_check_comparison_types\u001b[0m\u001b[0;34m(\u001b[0m\u001b[0;32mFalse\u001b[0m\u001b[0;34m,\u001b[0m \u001b[0ma\u001b[0m\u001b[0;34m,\u001b[0m \u001b[0mb\u001b[0m\u001b[0;34m)\u001b[0m\u001b[0;34m\u001b[0m\u001b[0;34m\u001b[0m\u001b[0m\n\u001b[0m\u001b[1;32m   2002\u001b[0m         \u001b[0;32mreturn\u001b[0m \u001b[0;32mFalse\u001b[0m\u001b[0;34m\u001b[0m\u001b[0;34m\u001b[0m\u001b[0m\n\u001b[1;32m   2003\u001b[0m \u001b[0;34m\u001b[0m\u001b[0m\n",
            "\u001b[0;32m/usr/local/lib/python3.7/dist-packages/pandas/core/internals/managers.py\u001b[0m in \u001b[0;36m_check_comparison_types\u001b[0;34m(result, a, b)\u001b[0m\n\u001b[1;32m   1979\u001b[0m \u001b[0;34m\u001b[0m\u001b[0m\n\u001b[1;32m   1980\u001b[0m             raise TypeError(\n\u001b[0;32m-> 1981\u001b[0;31m                 \u001b[0;34mf\"Cannot compare types {repr(type_names[0])} and {repr(type_names[1])}\"\u001b[0m\u001b[0;34m\u001b[0m\u001b[0;34m\u001b[0m\u001b[0m\n\u001b[0m\u001b[1;32m   1982\u001b[0m             )\n\u001b[1;32m   1983\u001b[0m \u001b[0;34m\u001b[0m\u001b[0m\n",
            "\u001b[0;31mTypeError\u001b[0m: Cannot compare types 'ndarray(dtype=int64)' and 'str'"
          ]
        }
      ]
    },
    {
      "cell_type": "code",
      "metadata": {
        "colab": {
          "base_uri": "https://localhost:8080/",
          "height": 224
        },
        "id": "3L9tY-jPC0re",
        "outputId": "f5dc0911-d017-4a46-9cee-ee4f19568756"
      },
      "source": [
        "#Taking a look at the final numerical dataset\n",
        "data.head()"
      ],
      "execution_count": 57,
      "outputs": [
        {
          "output_type": "execute_result",
          "data": {
            "text/html": [
              "<div>\n",
              "<style scoped>\n",
              "    .dataframe tbody tr th:only-of-type {\n",
              "        vertical-align: middle;\n",
              "    }\n",
              "\n",
              "    .dataframe tbody tr th {\n",
              "        vertical-align: top;\n",
              "    }\n",
              "\n",
              "    .dataframe thead th {\n",
              "        text-align: right;\n",
              "    }\n",
              "</style>\n",
              "<table border=\"1\" class=\"dataframe\">\n",
              "  <thead>\n",
              "    <tr style=\"text-align: right;\">\n",
              "      <th></th>\n",
              "      <th>sex</th>\n",
              "      <th>age</th>\n",
              "      <th>traveltime</th>\n",
              "      <th>studytime</th>\n",
              "      <th>failures</th>\n",
              "      <th>schoolsup</th>\n",
              "      <th>famsup</th>\n",
              "      <th>ECC</th>\n",
              "      <th>internet</th>\n",
              "      <th>romantic</th>\n",
              "      <th>freetime</th>\n",
              "      <th>goout</th>\n",
              "      <th>health</th>\n",
              "      <th>absences</th>\n",
              "      <th>Year_1</th>\n",
              "      <th>Year_2</th>\n",
              "      <th>Year_3</th>\n",
              "    </tr>\n",
              "  </thead>\n",
              "  <tbody>\n",
              "    <tr>\n",
              "      <th>0</th>\n",
              "      <td>1</td>\n",
              "      <td>18</td>\n",
              "      <td>2</td>\n",
              "      <td>2</td>\n",
              "      <td>0</td>\n",
              "      <td>1</td>\n",
              "      <td>0</td>\n",
              "      <td>0</td>\n",
              "      <td>0</td>\n",
              "      <td>0</td>\n",
              "      <td>3</td>\n",
              "      <td>4</td>\n",
              "      <td>3</td>\n",
              "      <td>4</td>\n",
              "      <td>0</td>\n",
              "      <td>11</td>\n",
              "      <td>11</td>\n",
              "    </tr>\n",
              "    <tr>\n",
              "      <th>1</th>\n",
              "      <td>1</td>\n",
              "      <td>17</td>\n",
              "      <td>1</td>\n",
              "      <td>2</td>\n",
              "      <td>0</td>\n",
              "      <td>0</td>\n",
              "      <td>1</td>\n",
              "      <td>0</td>\n",
              "      <td>1</td>\n",
              "      <td>0</td>\n",
              "      <td>3</td>\n",
              "      <td>3</td>\n",
              "      <td>3</td>\n",
              "      <td>2</td>\n",
              "      <td>9</td>\n",
              "      <td>11</td>\n",
              "      <td>11</td>\n",
              "    </tr>\n",
              "    <tr>\n",
              "      <th>2</th>\n",
              "      <td>1</td>\n",
              "      <td>15</td>\n",
              "      <td>1</td>\n",
              "      <td>2</td>\n",
              "      <td>0</td>\n",
              "      <td>1</td>\n",
              "      <td>0</td>\n",
              "      <td>0</td>\n",
              "      <td>1</td>\n",
              "      <td>0</td>\n",
              "      <td>3</td>\n",
              "      <td>2</td>\n",
              "      <td>3</td>\n",
              "      <td>6</td>\n",
              "      <td>12</td>\n",
              "      <td>13</td>\n",
              "      <td>12</td>\n",
              "    </tr>\n",
              "    <tr>\n",
              "      <th>3</th>\n",
              "      <td>1</td>\n",
              "      <td>15</td>\n",
              "      <td>1</td>\n",
              "      <td>3</td>\n",
              "      <td>0</td>\n",
              "      <td>0</td>\n",
              "      <td>1</td>\n",
              "      <td>1</td>\n",
              "      <td>1</td>\n",
              "      <td>1</td>\n",
              "      <td>2</td>\n",
              "      <td>2</td>\n",
              "      <td>5</td>\n",
              "      <td>0</td>\n",
              "      <td>14</td>\n",
              "      <td>14</td>\n",
              "      <td>14</td>\n",
              "    </tr>\n",
              "    <tr>\n",
              "      <th>4</th>\n",
              "      <td>1</td>\n",
              "      <td>16</td>\n",
              "      <td>1</td>\n",
              "      <td>2</td>\n",
              "      <td>0</td>\n",
              "      <td>0</td>\n",
              "      <td>1</td>\n",
              "      <td>0</td>\n",
              "      <td>0</td>\n",
              "      <td>0</td>\n",
              "      <td>3</td>\n",
              "      <td>2</td>\n",
              "      <td>5</td>\n",
              "      <td>0</td>\n",
              "      <td>11</td>\n",
              "      <td>13</td>\n",
              "      <td>13</td>\n",
              "    </tr>\n",
              "  </tbody>\n",
              "</table>\n",
              "</div>"
            ],
            "text/plain": [
              "   sex  age  traveltime  studytime  ...  absences  Year_1  Year_2  Year_3\n",
              "0    1   18           2          2  ...         4       0      11      11\n",
              "1    1   17           1          2  ...         2       9      11      11\n",
              "2    1   15           1          2  ...         6      12      13      12\n",
              "3    1   15           1          3  ...         0      14      14      14\n",
              "4    1   16           1          2  ...         0      11      13      13\n",
              "\n",
              "[5 rows x 17 columns]"
            ]
          },
          "metadata": {},
          "execution_count": 57
        }
      ]
    },
    {
      "cell_type": "code",
      "metadata": {
        "colab": {
          "base_uri": "https://localhost:8080/",
          "height": 596
        },
        "id": "YQheQ1K_pWmT",
        "outputId": "b7e88c29-43c9-435c-d163-67fbd0379d4b"
      },
      "source": [
        "#Finding the correlation in the dataset\n",
        "data.corr()"
      ],
      "execution_count": 66,
      "outputs": [
        {
          "output_type": "execute_result",
          "data": {
            "text/html": [
              "<div>\n",
              "<style scoped>\n",
              "    .dataframe tbody tr th:only-of-type {\n",
              "        vertical-align: middle;\n",
              "    }\n",
              "\n",
              "    .dataframe tbody tr th {\n",
              "        vertical-align: top;\n",
              "    }\n",
              "\n",
              "    .dataframe thead th {\n",
              "        text-align: right;\n",
              "    }\n",
              "</style>\n",
              "<table border=\"1\" class=\"dataframe\">\n",
              "  <thead>\n",
              "    <tr style=\"text-align: right;\">\n",
              "      <th></th>\n",
              "      <th>sex</th>\n",
              "      <th>age</th>\n",
              "      <th>traveltime</th>\n",
              "      <th>studytime</th>\n",
              "      <th>failures</th>\n",
              "      <th>schoolsup</th>\n",
              "      <th>famsup</th>\n",
              "      <th>ECC</th>\n",
              "      <th>internet</th>\n",
              "      <th>romantic</th>\n",
              "      <th>freetime</th>\n",
              "      <th>goout</th>\n",
              "      <th>health</th>\n",
              "      <th>absences</th>\n",
              "      <th>Year_1</th>\n",
              "      <th>Year_2</th>\n",
              "      <th>Year_3</th>\n",
              "    </tr>\n",
              "  </thead>\n",
              "  <tbody>\n",
              "    <tr>\n",
              "      <th>sex</th>\n",
              "      <td>1.000000</td>\n",
              "      <td>-0.043662</td>\n",
              "      <td>0.040880</td>\n",
              "      <td>-0.206214</td>\n",
              "      <td>0.073888</td>\n",
              "      <td>-0.111202</td>\n",
              "      <td>-0.129467</td>\n",
              "      <td>0.124707</td>\n",
              "      <td>0.065911</td>\n",
              "      <td>-0.110144</td>\n",
              "      <td>0.146305</td>\n",
              "      <td>0.058178</td>\n",
              "      <td>0.139547</td>\n",
              "      <td>0.021336</td>\n",
              "      <td>-0.104109</td>\n",
              "      <td>-0.104005</td>\n",
              "      <td>-0.129077</td>\n",
              "    </tr>\n",
              "    <tr>\n",
              "      <th>age</th>\n",
              "      <td>-0.043662</td>\n",
              "      <td>1.000000</td>\n",
              "      <td>0.034490</td>\n",
              "      <td>-0.008415</td>\n",
              "      <td>0.319968</td>\n",
              "      <td>-0.167841</td>\n",
              "      <td>-0.101894</td>\n",
              "      <td>-0.054279</td>\n",
              "      <td>0.013115</td>\n",
              "      <td>0.178810</td>\n",
              "      <td>-0.004910</td>\n",
              "      <td>0.112805</td>\n",
              "      <td>-0.008750</td>\n",
              "      <td>0.149998</td>\n",
              "      <td>-0.174322</td>\n",
              "      <td>-0.107119</td>\n",
              "      <td>-0.106505</td>\n",
              "    </tr>\n",
              "    <tr>\n",
              "      <th>traveltime</th>\n",
              "      <td>0.040880</td>\n",
              "      <td>0.034490</td>\n",
              "      <td>1.000000</td>\n",
              "      <td>-0.063154</td>\n",
              "      <td>0.097730</td>\n",
              "      <td>-0.044807</td>\n",
              "      <td>-0.039289</td>\n",
              "      <td>-0.033376</td>\n",
              "      <td>-0.190826</td>\n",
              "      <td>0.004751</td>\n",
              "      <td>0.000937</td>\n",
              "      <td>0.057454</td>\n",
              "      <td>-0.048261</td>\n",
              "      <td>-0.008149</td>\n",
              "      <td>-0.154120</td>\n",
              "      <td>-0.154489</td>\n",
              "      <td>-0.127173</td>\n",
              "    </tr>\n",
              "    <tr>\n",
              "      <th>studytime</th>\n",
              "      <td>-0.206214</td>\n",
              "      <td>-0.008415</td>\n",
              "      <td>-0.063154</td>\n",
              "      <td>1.000000</td>\n",
              "      <td>-0.147441</td>\n",
              "      <td>0.089316</td>\n",
              "      <td>0.143509</td>\n",
              "      <td>0.070080</td>\n",
              "      <td>0.037529</td>\n",
              "      <td>0.033036</td>\n",
              "      <td>-0.068829</td>\n",
              "      <td>-0.075442</td>\n",
              "      <td>-0.056433</td>\n",
              "      <td>-0.118389</td>\n",
              "      <td>0.260875</td>\n",
              "      <td>0.240498</td>\n",
              "      <td>0.249789</td>\n",
              "    </tr>\n",
              "    <tr>\n",
              "      <th>failures</th>\n",
              "      <td>0.073888</td>\n",
              "      <td>0.319968</td>\n",
              "      <td>0.097730</td>\n",
              "      <td>-0.147441</td>\n",
              "      <td>1.000000</td>\n",
              "      <td>-0.000745</td>\n",
              "      <td>-0.006982</td>\n",
              "      <td>0.000561</td>\n",
              "      <td>-0.095330</td>\n",
              "      <td>0.069901</td>\n",
              "      <td>0.108995</td>\n",
              "      <td>0.045078</td>\n",
              "      <td>0.035588</td>\n",
              "      <td>0.122779</td>\n",
              "      <td>-0.384210</td>\n",
              "      <td>-0.385782</td>\n",
              "      <td>-0.393316</td>\n",
              "    </tr>\n",
              "    <tr>\n",
              "      <th>schoolsup</th>\n",
              "      <td>-0.111202</td>\n",
              "      <td>-0.167841</td>\n",
              "      <td>-0.044807</td>\n",
              "      <td>0.089316</td>\n",
              "      <td>-0.000745</td>\n",
              "      <td>1.000000</td>\n",
              "      <td>0.075402</td>\n",
              "      <td>-0.030246</td>\n",
              "      <td>-0.025942</td>\n",
              "      <td>-0.094310</td>\n",
              "      <td>-0.015611</td>\n",
              "      <td>-0.058124</td>\n",
              "      <td>0.022760</td>\n",
              "      <td>-0.059503</td>\n",
              "      <td>-0.071779</td>\n",
              "      <td>-0.056624</td>\n",
              "      <td>-0.066405</td>\n",
              "    </tr>\n",
              "    <tr>\n",
              "      <th>famsup</th>\n",
              "      <td>-0.129467</td>\n",
              "      <td>-0.101894</td>\n",
              "      <td>-0.039289</td>\n",
              "      <td>0.143509</td>\n",
              "      <td>-0.006982</td>\n",
              "      <td>0.075402</td>\n",
              "      <td>1.000000</td>\n",
              "      <td>-0.007433</td>\n",
              "      <td>0.071891</td>\n",
              "      <td>-0.023398</td>\n",
              "      <td>0.003764</td>\n",
              "      <td>0.017262</td>\n",
              "      <td>0.018803</td>\n",
              "      <td>0.041980</td>\n",
              "      <td>0.038255</td>\n",
              "      <td>0.038141</td>\n",
              "      <td>0.059206</td>\n",
              "    </tr>\n",
              "    <tr>\n",
              "      <th>ECC</th>\n",
              "      <td>0.124707</td>\n",
              "      <td>-0.054279</td>\n",
              "      <td>-0.033376</td>\n",
              "      <td>0.070080</td>\n",
              "      <td>0.000561</td>\n",
              "      <td>-0.030246</td>\n",
              "      <td>-0.007433</td>\n",
              "      <td>1.000000</td>\n",
              "      <td>0.082375</td>\n",
              "      <td>0.057517</td>\n",
              "      <td>0.150329</td>\n",
              "      <td>0.088582</td>\n",
              "      <td>0.013001</td>\n",
              "      <td>-0.015115</td>\n",
              "      <td>0.080123</td>\n",
              "      <td>0.067154</td>\n",
              "      <td>0.059791</td>\n",
              "    </tr>\n",
              "    <tr>\n",
              "      <th>internet</th>\n",
              "      <td>0.065911</td>\n",
              "      <td>0.013115</td>\n",
              "      <td>-0.190826</td>\n",
              "      <td>0.037529</td>\n",
              "      <td>-0.095330</td>\n",
              "      <td>-0.025942</td>\n",
              "      <td>0.071891</td>\n",
              "      <td>0.082375</td>\n",
              "      <td>1.000000</td>\n",
              "      <td>0.034832</td>\n",
              "      <td>0.063268</td>\n",
              "      <td>0.092869</td>\n",
              "      <td>-0.022792</td>\n",
              "      <td>0.067301</td>\n",
              "      <td>0.139931</td>\n",
              "      <td>0.147909</td>\n",
              "      <td>0.150025</td>\n",
              "    </tr>\n",
              "    <tr>\n",
              "      <th>romantic</th>\n",
              "      <td>-0.110144</td>\n",
              "      <td>0.178810</td>\n",
              "      <td>0.004751</td>\n",
              "      <td>0.033036</td>\n",
              "      <td>0.069901</td>\n",
              "      <td>-0.094310</td>\n",
              "      <td>-0.023398</td>\n",
              "      <td>0.057517</td>\n",
              "      <td>0.034832</td>\n",
              "      <td>1.000000</td>\n",
              "      <td>0.027112</td>\n",
              "      <td>-0.000520</td>\n",
              "      <td>-0.018025</td>\n",
              "      <td>0.079489</td>\n",
              "      <td>-0.074973</td>\n",
              "      <td>-0.097937</td>\n",
              "      <td>-0.090583</td>\n",
              "    </tr>\n",
              "    <tr>\n",
              "      <th>freetime</th>\n",
              "      <td>0.146305</td>\n",
              "      <td>-0.004910</td>\n",
              "      <td>0.000937</td>\n",
              "      <td>-0.068829</td>\n",
              "      <td>0.108995</td>\n",
              "      <td>-0.015611</td>\n",
              "      <td>0.003764</td>\n",
              "      <td>0.150329</td>\n",
              "      <td>0.063268</td>\n",
              "      <td>0.027112</td>\n",
              "      <td>1.000000</td>\n",
              "      <td>0.346352</td>\n",
              "      <td>0.084526</td>\n",
              "      <td>-0.018716</td>\n",
              "      <td>-0.094497</td>\n",
              "      <td>-0.106678</td>\n",
              "      <td>-0.122705</td>\n",
              "    </tr>\n",
              "    <tr>\n",
              "      <th>goout</th>\n",
              "      <td>0.058178</td>\n",
              "      <td>0.112805</td>\n",
              "      <td>0.057454</td>\n",
              "      <td>-0.075442</td>\n",
              "      <td>0.045078</td>\n",
              "      <td>-0.058124</td>\n",
              "      <td>0.017262</td>\n",
              "      <td>0.088582</td>\n",
              "      <td>0.092869</td>\n",
              "      <td>-0.000520</td>\n",
              "      <td>0.346352</td>\n",
              "      <td>1.000000</td>\n",
              "      <td>-0.015741</td>\n",
              "      <td>0.085374</td>\n",
              "      <td>-0.074053</td>\n",
              "      <td>-0.079469</td>\n",
              "      <td>-0.087641</td>\n",
              "    </tr>\n",
              "    <tr>\n",
              "      <th>health</th>\n",
              "      <td>0.139547</td>\n",
              "      <td>-0.008750</td>\n",
              "      <td>-0.048261</td>\n",
              "      <td>-0.056433</td>\n",
              "      <td>0.035588</td>\n",
              "      <td>0.022760</td>\n",
              "      <td>0.018803</td>\n",
              "      <td>0.013001</td>\n",
              "      <td>-0.022792</td>\n",
              "      <td>-0.018025</td>\n",
              "      <td>0.084526</td>\n",
              "      <td>-0.015741</td>\n",
              "      <td>1.000000</td>\n",
              "      <td>-0.030235</td>\n",
              "      <td>-0.051647</td>\n",
              "      <td>-0.082179</td>\n",
              "      <td>-0.098851</td>\n",
              "    </tr>\n",
              "    <tr>\n",
              "      <th>absences</th>\n",
              "      <td>0.021336</td>\n",
              "      <td>0.149998</td>\n",
              "      <td>-0.008149</td>\n",
              "      <td>-0.118389</td>\n",
              "      <td>0.122779</td>\n",
              "      <td>-0.059503</td>\n",
              "      <td>0.041980</td>\n",
              "      <td>-0.015115</td>\n",
              "      <td>0.067301</td>\n",
              "      <td>0.079489</td>\n",
              "      <td>-0.018716</td>\n",
              "      <td>0.085374</td>\n",
              "      <td>-0.030235</td>\n",
              "      <td>1.000000</td>\n",
              "      <td>-0.147149</td>\n",
              "      <td>-0.124745</td>\n",
              "      <td>-0.091379</td>\n",
              "    </tr>\n",
              "    <tr>\n",
              "      <th>Year_1</th>\n",
              "      <td>-0.104109</td>\n",
              "      <td>-0.174322</td>\n",
              "      <td>-0.154120</td>\n",
              "      <td>0.260875</td>\n",
              "      <td>-0.384210</td>\n",
              "      <td>-0.071779</td>\n",
              "      <td>0.038255</td>\n",
              "      <td>0.080123</td>\n",
              "      <td>0.139931</td>\n",
              "      <td>-0.074973</td>\n",
              "      <td>-0.094497</td>\n",
              "      <td>-0.074053</td>\n",
              "      <td>-0.051647</td>\n",
              "      <td>-0.147149</td>\n",
              "      <td>1.000000</td>\n",
              "      <td>0.864982</td>\n",
              "      <td>0.826387</td>\n",
              "    </tr>\n",
              "    <tr>\n",
              "      <th>Year_2</th>\n",
              "      <td>-0.104005</td>\n",
              "      <td>-0.107119</td>\n",
              "      <td>-0.154489</td>\n",
              "      <td>0.240498</td>\n",
              "      <td>-0.385782</td>\n",
              "      <td>-0.056624</td>\n",
              "      <td>0.038141</td>\n",
              "      <td>0.067154</td>\n",
              "      <td>0.147909</td>\n",
              "      <td>-0.097937</td>\n",
              "      <td>-0.106678</td>\n",
              "      <td>-0.079469</td>\n",
              "      <td>-0.082179</td>\n",
              "      <td>-0.124745</td>\n",
              "      <td>0.864982</td>\n",
              "      <td>1.000000</td>\n",
              "      <td>0.918548</td>\n",
              "    </tr>\n",
              "    <tr>\n",
              "      <th>Year_3</th>\n",
              "      <td>-0.129077</td>\n",
              "      <td>-0.106505</td>\n",
              "      <td>-0.127173</td>\n",
              "      <td>0.249789</td>\n",
              "      <td>-0.393316</td>\n",
              "      <td>-0.066405</td>\n",
              "      <td>0.059206</td>\n",
              "      <td>0.059791</td>\n",
              "      <td>0.150025</td>\n",
              "      <td>-0.090583</td>\n",
              "      <td>-0.122705</td>\n",
              "      <td>-0.087641</td>\n",
              "      <td>-0.098851</td>\n",
              "      <td>-0.091379</td>\n",
              "      <td>0.826387</td>\n",
              "      <td>0.918548</td>\n",
              "      <td>1.000000</td>\n",
              "    </tr>\n",
              "  </tbody>\n",
              "</table>\n",
              "</div>"
            ],
            "text/plain": [
              "                 sex       age  traveltime  ...    Year_1    Year_2    Year_3\n",
              "sex         1.000000 -0.043662    0.040880  ... -0.104109 -0.104005 -0.129077\n",
              "age        -0.043662  1.000000    0.034490  ... -0.174322 -0.107119 -0.106505\n",
              "traveltime  0.040880  0.034490    1.000000  ... -0.154120 -0.154489 -0.127173\n",
              "studytime  -0.206214 -0.008415   -0.063154  ...  0.260875  0.240498  0.249789\n",
              "failures    0.073888  0.319968    0.097730  ... -0.384210 -0.385782 -0.393316\n",
              "schoolsup  -0.111202 -0.167841   -0.044807  ... -0.071779 -0.056624 -0.066405\n",
              "famsup     -0.129467 -0.101894   -0.039289  ...  0.038255  0.038141  0.059206\n",
              "ECC         0.124707 -0.054279   -0.033376  ...  0.080123  0.067154  0.059791\n",
              "internet    0.065911  0.013115   -0.190826  ...  0.139931  0.147909  0.150025\n",
              "romantic   -0.110144  0.178810    0.004751  ... -0.074973 -0.097937 -0.090583\n",
              "freetime    0.146305 -0.004910    0.000937  ... -0.094497 -0.106678 -0.122705\n",
              "goout       0.058178  0.112805    0.057454  ... -0.074053 -0.079469 -0.087641\n",
              "health      0.139547 -0.008750   -0.048261  ... -0.051647 -0.082179 -0.098851\n",
              "absences    0.021336  0.149998   -0.008149  ... -0.147149 -0.124745 -0.091379\n",
              "Year_1     -0.104109 -0.174322   -0.154120  ...  1.000000  0.864982  0.826387\n",
              "Year_2     -0.104005 -0.107119   -0.154489  ...  0.864982  1.000000  0.918548\n",
              "Year_3     -0.129077 -0.106505   -0.127173  ...  0.826387  0.918548  1.000000\n",
              "\n",
              "[17 rows x 17 columns]"
            ]
          },
          "metadata": {},
          "execution_count": 66
        }
      ]
    },
    {
      "cell_type": "markdown",
      "metadata": {
        "id": "4MRrKbh4jv2C"
      },
      "source": [
        "#Data Visualization"
      ]
    },
    {
      "cell_type": "code",
      "metadata": {
        "colab": {
          "base_uri": "https://localhost:8080/",
          "height": 643
        },
        "id": "Jt2UB4YIg3j4",
        "outputId": "cec8aaec-3056-4361-b602-e32c990efb65"
      },
      "source": [
        "#Plotting the heatmap for first 20 rows of the dataset\n",
        "\n",
        "fig, ax = plt.subplots(figsize=(10,10))    \n",
        "sns.heatmap(data.iloc[1:20,2:],linewidth=1, linecolor='w', square=True)\n"
      ],
      "execution_count": 58,
      "outputs": [
        {
          "output_type": "execute_result",
          "data": {
            "text/plain": [
              "<matplotlib.axes._subplots.AxesSubplot at 0x7f30c24d2450>"
            ]
          },
          "metadata": {},
          "execution_count": 58
        },
        {
          "output_type": "display_data",
          "data": {
            "image/png": "[encoded data removed]",
            "text/plain": [
              "<Figure size 720x720 with 2 Axes>"
            ]
          },
          "metadata": {}
        }
      ]
    },
    {
      "cell_type": "markdown",
      "metadata": {
        "id": "WyGDJHKck7e-"
      },
      "source": [
        "Now, we will plot histograms for all the three years to get a better understanding"
      ]
    },
    {
      "cell_type": "code",
      "metadata": {
        "colab": {
          "base_uri": "https://localhost:8080/",
          "height": 344
        },
        "id": "kyfiPZcCkgc_",
        "outputId": "1968bc5f-52da-4e1a-8351-146a1d6f69f6"
      },
      "source": [
        "#Histogram for Year_1\n",
        "plt.figure(figsize=(4.30,3), dpi=100)\n",
        "plt.style.use('seaborn')\n",
        "data['Year_1'].plot.hist(title='Histogram of Year_1 Grades',bins=20)\n",
        "plt.xlabel('Grades - Year_1')"
      ],
      "execution_count": 59,
      "outputs": [
        {
          "output_type": "execute_result",
          "data": {
            "text/plain": [
              "Text(0.5, 0, 'Grades - Year_1')"
            ]
          },
          "metadata": {},
          "execution_count": 59
        },
        {
          "output_type": "display_data",
          "data": {
            "image/png": "[encoded data removed]",
            "text/plain": [
              "<Figure size 430x300 with 1 Axes>"
            ]
          },
          "metadata": {}
        }
      ]
    },
    {
      "cell_type": "code",
      "metadata": {
        "colab": {
          "base_uri": "https://localhost:8080/",
          "height": 397
        },
        "id": "I2C30Yi8lP5l",
        "outputId": "5b4db3bb-ab26-4ff1-89b5-a00749fe11a0"
      },
      "source": [
        "#Histogram for Year_2\n",
        "plt.style.use('bmh')\n",
        "data['Year_2'].plot.hist(title='Histogram of Year_2 Grades',bins=20)\n",
        "plt.xlabel('Grades - Year_2')"
      ],
      "execution_count": 60,
      "outputs": [
        {
          "output_type": "execute_result",
          "data": {
            "text/plain": [
              "Text(0.5, 0, 'Grades - Year_2')"
            ]
          },
          "metadata": {},
          "execution_count": 60
        },
        {
          "output_type": "display_data",
          "data": {
            "image/png": "[encoded data removed]",
            "text/plain": [
              "<Figure size 576x396 with 1 Axes>"
            ]
          },
          "metadata": {}
        }
      ]
    },
    {
      "cell_type": "code",
      "metadata": {
        "colab": {
          "base_uri": "https://localhost:8080/",
          "height": 397
        },
        "id": "8Bpp_6ZxlWs_",
        "outputId": "14899d8d-9b69-4eec-ab80-8db7d04dfef9"
      },
      "source": [
        "#Histogram for Year_3\n",
        "plt.style.use('ggplot')\n",
        "data['Year_3'].plot.hist(title='Histogram of Year_3 Grades', bins=20)\n",
        "plt.xlabel('Grades - Year_3')"
      ],
      "execution_count": 61,
      "outputs": [
        {
          "output_type": "execute_result",
          "data": {
            "text/plain": [
              "Text(0.5, 0, 'Grades - Year_3')"
            ]
          },
          "metadata": {},
          "execution_count": 61
        },
        {
          "output_type": "display_data",
          "data": {
            "image/png": "[encoded data removed]",
            "text/plain": [
              "<Figure size 576x396 with 1 Axes>"
            ]
          },
          "metadata": {}
        }
      ]
    },
    {
      "cell_type": "code",
      "metadata": {
        "colab": {
          "base_uri": "https://localhost:8080/",
          "height": 344
        },
        "id": "5028wd4Jmgxr",
        "outputId": "e807e8ca-fc44-4fbf-c463-5cb92eadcb4f"
      },
      "source": [
        "#Scatter plot for the Year_3 marks vs absences\n",
        "plt.figure(figsize=(10,3), dpi=100)\n",
        "plt.style.use('seaborn')\n",
        "plt.xlabel('Number of Absences')\n",
        "plt.ylabel('Year_3')\n",
        "plt.title('Scatter Plot of Absences vs Year_3')\n",
        "plt.scatter(data.absences,data.Year_3,color='red')"
      ],
      "execution_count": 63,
      "outputs": [
        {
          "output_type": "execute_result",
          "data": {
            "text/plain": [
              "<matplotlib.collections.PathCollection at 0x7f30b3841d10>"
            ]
          },
          "metadata": {},
          "execution_count": 63
        },
        {
          "output_type": "display_data",
          "data": {
            "image/png": "[encoded data removed]",
            "text/plain": [
              "<Figure size 1000x300 with 1 Axes>"
            ]
          },
          "metadata": {}
        }
      ]
    },
    {
      "cell_type": "markdown",
      "metadata": {
        "id": "etYa6OcApG3i"
      },
      "source": [
        "#Model Training"
      ]
    },
    {
      "cell_type": "markdown",
      "metadata": {
        "id": "iZvV51PRLK7k"
      },
      "source": [
        "As we are ready cleaning and transforming the dataset, we are ready to split it. The column Year 3, which will be our label. So, we will have to remove that from the training dataset."
      ]
    },
    {
      "cell_type": "code",
      "metadata": {
        "id": "pUpI5VubFJHv"
      },
      "source": [
        "#Select every column except the Year 3\n",
        "x=np.array(data.drop(['Year_3'],1))"
      ],
      "execution_count": 73,
      "outputs": []
    },
    {
      "cell_type": "code",
      "metadata": {
        "id": "SKCEldM0M9Dc"
      },
      "source": [
        "#Selecting just the labels\n",
        "y=np.array(data['Year_3']) "
      ],
      "execution_count": 74,
      "outputs": []
    },
    {
      "cell_type": "code",
      "metadata": {
        "id": "nVYennfuM_rj"
      },
      "source": [
        "#Importing the necessary libraries for the dataset to split\n",
        "from sklearn.model_selection import train_test_split\n",
        "\n",
        "x_train,x_test,y_train,y_test=train_test_split(x, y, test_size=0.25) "
      ],
      "execution_count": 75,
      "outputs": []
    },
    {
      "cell_type": "code",
      "metadata": {
        "colab": {
          "base_uri": "https://localhost:8080/"
        },
        "id": "Edfk0jI4NONc",
        "outputId": "f38f75c8-6b1a-4bb3-bd9d-0ef511aecfe2"
      },
      "source": [
        "#Importing and implementing the linear regression \n",
        "from sklearn.linear_model import LinearRegression\n",
        "\n",
        "linear=LinearRegression().fit(x_train, y_train)  #Fitting our model on x_train & y_train\n",
        "accuracy=linear.score(x_test,y_test)  \n",
        "print(accuracy)"
      ],
      "execution_count": 76,
      "outputs": [
        {
          "output_type": "stream",
          "text": [
            "0.8279792185118088\n"
          ],
          "name": "stdout"
        }
      ]
    },
    {
      "cell_type": "markdown",
      "metadata": {
        "id": "MjCKF_vjrJGR"
      },
      "source": [
        "#Predicting Values"
      ]
    },
    {
      "cell_type": "code",
      "metadata": {
        "colab": {
          "base_uri": "https://localhost:8080/"
        },
        "id": "ZlNtD8GIParR",
        "outputId": "a0290508-606b-4d54-c994-62587b399ac5"
      },
      "source": [
        "#Calling the predict function x_test\n",
        "y_pred=linear.predict(x_test)   \n",
        "\n",
        "for i in range(len(y_pred)):\n",
        "    print(round(y_pred[i]),y_test[i])  \n"
      ],
      "execution_count": 77,
      "outputs": [
        {
          "output_type": "stream",
          "text": [
            "13 14\n",
            "10 10\n",
            "19 18\n",
            "12 11\n",
            "11 12\n",
            "9 10\n",
            "14 13\n",
            "15 15\n",
            "12 12\n",
            "1 0\n",
            "14 13\n",
            "14 15\n",
            "10 10\n",
            "12 13\n",
            "12 12\n",
            "14 13\n",
            "16 16\n",
            "16 16\n",
            "7 8\n",
            "11 10\n",
            "16 17\n",
            "11 11\n",
            "15 15\n",
            "11 11\n",
            "8 10\n",
            "12 9\n",
            "13 12\n",
            "16 16\n",
            "9 8\n",
            "15 14\n",
            "14 14\n",
            "14 14\n",
            "14 13\n",
            "10 10\n",
            "11 12\n",
            "14 13\n",
            "12 12\n",
            "12 12\n",
            "7 0\n",
            "13 12\n",
            "13 12\n",
            "10 11\n",
            "12 13\n",
            "7 0\n",
            "8 9\n",
            "12 13\n",
            "15 15\n",
            "12 13\n",
            "17 17\n",
            "11 12\n",
            "10 10\n",
            "13 14\n",
            "11 10\n",
            "14 13\n",
            "13 14\n",
            "12 10\n",
            "9 11\n",
            "17 17\n",
            "11 11\n",
            "9 10\n",
            "11 10\n",
            "11 12\n",
            "13 14\n",
            "12 13\n",
            "15 15\n",
            "9 10\n",
            "10 10\n",
            "8 8\n",
            "13 14\n",
            "10 10\n",
            "10 10\n",
            "13 12\n",
            "11 11\n",
            "9 8\n",
            "13 13\n",
            "8 9\n",
            "8 8\n",
            "16 16\n",
            "15 14\n",
            "10 11\n",
            "10 11\n",
            "12 11\n",
            "11 11\n",
            "18 18\n",
            "14 14\n",
            "12 12\n",
            "14 14\n",
            "13 13\n",
            "10 10\n",
            "11 11\n",
            "14 13\n",
            "6 7\n",
            "12 14\n",
            "13 13\n",
            "16 16\n",
            "10 10\n",
            "11 10\n",
            "18 18\n",
            "9 0\n",
            "9 9\n",
            "11 11\n",
            "9 11\n",
            "18 17\n",
            "11 12\n",
            "15 15\n",
            "12 13\n",
            "9 10\n",
            "16 16\n",
            "17 18\n",
            "12 14\n",
            "20 19\n",
            "10 10\n",
            "10 10\n",
            "14 15\n",
            "9 10\n",
            "10 9\n",
            "10 9\n",
            "14 15\n",
            "14 14\n",
            "10 10\n",
            "1 0\n",
            "9 10\n",
            "11 12\n",
            "10 11\n",
            "12 11\n",
            "8 9\n",
            "6 8\n",
            "15 15\n",
            "12 12\n",
            "15 16\n",
            "18 19\n",
            "14 15\n",
            "9 10\n",
            "14 14\n",
            "12 12\n",
            "10 9\n",
            "13 13\n",
            "17 15\n",
            "12 13\n",
            "11 12\n",
            "14 14\n",
            "11 12\n",
            "10 11\n",
            "13 13\n",
            "15 16\n",
            "13 13\n",
            "9 11\n",
            "14 14\n",
            "11 11\n",
            "9 10\n",
            "9 11\n",
            "13 13\n",
            "15 15\n",
            "9 12\n",
            "9 10\n",
            "12 13\n",
            "18 17\n",
            "11 11\n",
            "11 11\n",
            "10 11\n",
            "13 13\n",
            "11 13\n",
            "12 12\n"
          ],
          "name": "stdout"
        }
      ]
    },
    {
      "cell_type": "markdown",
      "metadata": {
        "id": "aPPgAPtBrecQ"
      },
      "source": [
        "As we can see from the number displayed above, the numbers on the right are the actual values of the student scored in the Year_3 and on the left we have the corresponding predicted value from our model. As our model was able to predict it correctly, now it's ready to predict marks of a new student who joins the class."
      ]
    }
  ]
}